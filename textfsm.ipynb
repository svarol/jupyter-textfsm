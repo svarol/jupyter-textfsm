{
 "cells": [
  {
   "cell_type": "markdown",
   "metadata": {},
   "source": [
    "## Import the library\n",
    "## Load the input file to a variable"
   ]
  },
  {
   "cell_type": "code",
   "execution_count": 12,
   "metadata": {},
   "outputs": [],
   "source": [
    "import jtextfsm as textfsm\n",
    "input_file = open(\"show_inventory.txt\", encoding='utf-8')\n",
    "raw_text_data = input_file.read()\n",
    "input_file.close()"
   ]
  },
  {
   "cell_type": "markdown",
   "metadata": {},
   "source": [
    "## Run the text through the FSM. \n",
    "## The argument 'template' is a file handle and 'raw_text_data' is a \n",
    "## string with the content from the show_inventory.txt file"
   ]
  },
  {
   "cell_type": "code",
   "execution_count": 8,
   "metadata": {},
   "outputs": [],
   "source": [
    "template = open(\"show_inventory_multiple.textfsm\")\n",
    "re_table = textfsm.TextFSM(template)\n",
    "fsm_results = re_table.ParseText(raw_text_data)"
   ]
  },
  {
   "cell_type": "markdown",
   "metadata": {},
   "source": [
    "## Display result\n",
    "## First the column headers..."
   ]
  },
  {
   "cell_type": "code",
   "execution_count": 10,
   "metadata": {},
   "outputs": [
    {
     "name": "stdout",
     "output_type": "stream",
     "text": [
      "['hostname', 'name', 'description', 'productid', 'vid', 'serialnumber']\n"
     ]
    }
   ],
   "source": [
    "print(re_table.header)"
   ]
  },
  {
   "cell_type": "markdown",
   "metadata": {},
   "source": [
    "## ...now all row's which were parsed by TextFSM\n"
   ]
  },
  {
   "cell_type": "code",
   "execution_count": 11,
   "metadata": {},
   "outputs": [
    {
     "name": "stdout",
     "output_type": "stream",
     "text": [
      "['switch-1001', '1', 'WS-C2960-24TT-L', 'WS-C2960-24TT-L', 'V09', '12345ABCD']\n",
      "['switch-1002', '1', 'WS-C2960-48TT-L', 'WS-C2960-48TT-L', 'V02', '12345ABCD']\n",
      "['switch-2001', '1', 'WS-C3750X-24', 'WS-C3750X-24T-S', 'V04', '12345ABCD']\n",
      "['switch-2001', 'Switch 1 - Power Supply 0', 'FRU Power Supply', 'C3KX-PWR-350WAC', 'V02', '12345ABCD']\n",
      "['switch-2001', 'Switch 1 - FRULink Slot 1 - FRULink Module', 'FRULink 1G Module', 'C3KX-NM-1G', 'V01', '12345ABCD']\n",
      "['switch-2001', 'GigabitEthernet1/1/1', '1000BaseLX SFP', 'Unspecified', '', '12345ABCD']\n",
      "['switch-2001', '2', 'WS-C3750X-24', 'WS-C3750X-24T-S', 'V04', '12345ABCD']\n",
      "['switch-2001', 'Switch 2 - Power Supply 0', 'FRU Power Supply', 'C3KX-PWR-350WAC', 'V02', '12345ABCD']\n",
      "['switch-2001', 'Switch 2 - FRULink Slot 1 - FRULink Module', 'FRULink 1G Module', 'C3KX-NM-1G', 'V01', '12345ABCD']\n",
      "['switch-2001', 'GigabitEthernet2/1/1', '1000BaseLX SFP', 'Unspecified', '', '12345ABCD']\n",
      "['switch-2001', '3', 'WS-C3750X-24', 'WS-C3750X-24T-S', 'V04', '12345ABCD']\n",
      "['switch-2001', 'Switch 3 - Power Supply 0', 'FRU Power Supply', 'C3KX-PWR-350WAC', 'V02', '12345ABCD']\n",
      "['switch-2001', 'Switch 3 - FRULink Slot 1 - FRULink Module', 'FRULink 1G Module', 'C3KX-NM-1G', 'V01', '12345ABCD']\n",
      "['switch-2001', 'GigabitEthernet3/1/1', '1000BaseLX SFP', 'Unspecified', '', '12345ABCD']\n",
      "['switch-2001', '4', 'WS-C3750X-24', 'WS-C3750X-24T-S', 'V04', '12345ABCD']\n",
      "['switch-2001', 'Switch 4 - Power Supply 0', 'FRU Power Supply', 'C3KX-PWR-350WAC', 'V02', '12345ABCD']\n",
      "['switch-2001', 'Switch 4 - FRULink Slot 1 - FRULink Module', 'FRULink 1G Module', 'C3KX-NM-1G', 'V01', '12345ABCD']\n",
      "['switch-2001', 'GigabitEthernet4/1/1', '1000BaseLX SFP', 'Unspecified', '', '12345ABCD']\n",
      "['switch-2002', '1', 'WS-C3560G-24TS', 'WS-C3560G-24TS-S', 'V03,', '12345ABCD']\n",
      "['switch-2002', 'GigabitEthernet0/25', '1000BaseSX SFP', '', '', '12345ABCD']\n",
      "['switch-2002', 'GigabitEthernet0/27', '1000BaseSX SFP', '', '', '12345ABCD']\n",
      "['switch-2002', 'GigabitEthernet0/28', '1000BaseSX SFP', '', '', '12345ABCD']\n",
      "Write 22 records\n"
     ]
    }
   ],
   "source": [
    "for row in fsm_results:\n",
    "    print(row)"
   ]
  }
 ],
 "metadata": {
  "kernelspec": {
   "display_name": "Python 3",
   "language": "python",
   "name": "python3"
  },
  "language_info": {
   "codemirror_mode": {
    "name": "ipython",
    "version": 3
   },
   "file_extension": ".py",
   "mimetype": "text/x-python",
   "name": "python",
   "nbconvert_exporter": "python",
   "pygments_lexer": "ipython3",
   "version": "3.6.6"
  }
 },
 "nbformat": 4,
 "nbformat_minor": 2
}
